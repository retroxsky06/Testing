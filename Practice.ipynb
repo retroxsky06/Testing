{
 "cells": [
  {
   "cell_type": "code",
   "execution_count": 1,
   "id": "dbeadc3d",
   "metadata": {},
   "outputs": [],
   "source": [
    "import numpy as np\n",
    "import pandas as pd"
   ]
  },
  {
   "cell_type": "code",
   "execution_count": 2,
   "id": "e7be951c",
   "metadata": {},
   "outputs": [
    {
     "data": {
      "text/plain": [
       "14"
      ]
     },
     "execution_count": 2,
     "metadata": {},
     "output_type": "execute_result"
    }
   ],
   "source": [
    "7+ 7"
   ]
  },
  {
   "cell_type": "code",
   "execution_count": 7,
   "id": "9c9ce4ff",
   "metadata": {},
   "outputs": [
    {
     "data": {
      "text/plain": [
       "['San Francisco', 'San Jose', 'Oakland']"
      ]
     },
     "execution_count": 7,
     "metadata": {},
     "output_type": "execute_result"
    }
   ],
   "source": [
    "bay_area = [\"San Francisco\", \"San Jose\", \"Oakland\"]\n",
    "bay_area"
   ]
  },
  {
   "cell_type": "code",
   "execution_count": 8,
   "id": "35c0ceba",
   "metadata": {},
   "outputs": [
    {
     "name": "stdout",
     "output_type": "stream",
     "text": [
      "['San Francisco', 'San Jose', 'Oakland']\n"
     ]
    }
   ],
   "source": [
    "print(bay_area)"
   ]
  },
  {
   "cell_type": "code",
   "execution_count": null,
   "id": "9bcb4c30",
   "metadata": {},
   "outputs": [],
   "source": []
  }
 ],
 "metadata": {
  "kernelspec": {
   "display_name": "Python 3",
   "language": "python",
   "name": "python3"
  },
  "language_info": {
   "codemirror_mode": {
    "name": "ipython",
    "version": 3
   },
   "file_extension": ".py",
   "mimetype": "text/x-python",
   "name": "python",
   "nbconvert_exporter": "python",
   "pygments_lexer": "ipython3",
   "version": "3.8.8"
  }
 },
 "nbformat": 4,
 "nbformat_minor": 5
}
